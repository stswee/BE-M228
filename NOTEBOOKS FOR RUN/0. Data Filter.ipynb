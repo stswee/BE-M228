{
 "cells": [
  {
   "cell_type": "markdown",
   "id": "4fae3372",
   "metadata": {},
   "source": [
    "#### Notebook TODO:\n",
    "\n",
    "0. Create a function that takes in the final list of patients, and creates train/test split based on the discussion regarding class stratification. Fixed random seed pls - sklearn.preprocessing.stratifiedkfold.\n",
    "\n",
    "1. Create a small function that cuts the beginning of a ECG signal "
   ]
  },
  {
   "cell_type": "code",
   "execution_count": null,
   "id": "a2dd7c79",
   "metadata": {},
   "outputs": [],
   "source": []
  },
  {
   "cell_type": "code",
   "execution_count": null,
   "id": "53222068",
   "metadata": {},
   "outputs": [],
   "source": []
  }
 ],
 "metadata": {
  "kernelspec": {
   "display_name": "ecg_llm",
   "language": "python",
   "name": "ecg_llm"
  },
  "language_info": {
   "codemirror_mode": {
    "name": "ipython",
    "version": 3
   },
   "file_extension": ".py",
   "mimetype": "text/x-python",
   "name": "python",
   "nbconvert_exporter": "python",
   "pygments_lexer": "ipython3",
   "version": "3.11.6"
  }
 },
 "nbformat": 4,
 "nbformat_minor": 5
}

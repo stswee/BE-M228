{
 "cells": [
  {
   "cell_type": "code",
   "execution_count": null,
   "id": "50e7564b",
   "metadata": {},
   "outputs": [
    {
     "data": {
      "application/vnd.jupyter.widget-view+json": {
       "model_id": "0cd23ddf326847a180e300e375c81317",
       "version_major": 2,
       "version_minor": 0
      },
      "text/plain": [
       "Loading checkpoint shards:   0%|          | 0/4 [00:00<?, ?it/s]"
      ]
     },
     "metadata": {},
     "output_type": "display_data"
    }
   ],
   "source": [
    "# Import packages\n",
    "import os\n",
    "from huggingface_hub import login\n",
    "from transformers import AutoModel, AutoModelForCausalLM, AutoTokenizer, pipeline\n",
    "import transformers\n",
    "import torch\n",
    "\n",
    "# Log into Huggingface\n",
    "# with open(\"huggingface_token.txt\", \"r\") as file:\n",
    "#     access_token = file.read().strip()\n",
    "# hf_token = os.getenv(\"HUGGINGFACE_TOKEN\")\n",
    "login(hf_token)\n",
    "\n",
    "# # Load Huggingface Model\n",
    "model_name = \"meta-llama/Llama-3.1-8B-Instruct\"\n",
    "tokenizer = AutoTokenizer.from_pretrained(model_name)\n",
    "# model = AutoModelForCausalLM.from_pretrained(model_name)\n",
    "\n",
    "# !nvidia-smi\n",
    "\n",
    "# Use cuda\n",
    "# device = torch.device(\"cuda:3\" if torch.cuda.is_available() else \"cpu\")\n",
    "# model.to(device)\n",
    "model = AutoModelForCausalLM.from_pretrained(model_name, token=hf_token, low_cpu_mem_usage=True,\n",
    "                    torch_dtype=torch.float16, device_map='auto')"
   ]
  },
  {
   "cell_type": "code",
   "execution_count": 7,
   "id": "e78c3363",
   "metadata": {},
   "outputs": [
    {
     "data": {
      "text/plain": [
       "False"
      ]
     },
     "execution_count": 7,
     "metadata": {},
     "output_type": "execute_result"
    }
   ],
   "source": [
    "torch.cuda.is_available()"
   ]
  },
  {
   "cell_type": "code",
   "execution_count": 9,
   "id": "b2c6d53e",
   "metadata": {},
   "outputs": [
    {
     "name": "stderr",
     "output_type": "stream",
     "text": [
      "Setting `pad_token_id` to `eos_token_id`:None for open-end generation.\n"
     ]
    },
    {
     "ename": "",
     "evalue": "",
     "output_type": "error",
     "traceback": [
      "\u001b[1;31mThe Kernel crashed while executing code in the current cell or a previous cell. \n",
      "\u001b[1;31mPlease review the code in the cell(s) to identify a possible cause of the failure. \n",
      "\u001b[1;31mClick <a href='https://aka.ms/vscodeJupyterKernelCrash'>here</a> for more info. \n",
      "\u001b[1;31mView Jupyter <a href='command:jupyter.viewOutput'>log</a> for further details."
     ]
    }
   ],
   "source": [
    "# Define system prompt (sets the assistant’s role)\n",
    "system_prompt = (\n",
    "    \"You are an experienced physician providing expert medical advice based on scientific evidence. \"\n",
    "    \"If a case requires urgent medical attention, instruct the user to see a healthcare professional.\"\n",
    ")\n",
    "\n",
    "# Define user query\n",
    "user_input = \"I have been feeling lightheaded and dizzy lately. What could be the cause?\"\n",
    "\n",
    "# Format the prompt using Llama-3 chat structure\n",
    "messages = [\n",
    "    {\"role\": \"system\", \"content\": system_prompt},\n",
    "    {\"role\": \"user\", \"content\": user_input}\n",
    "]\n",
    "\n",
    "# Tokenize the input for the model\n",
    "input_text = tokenizer.apply_chat_template(messages, tokenize=False, add_generation_prompt=True)\n",
    "\n",
    "# Generate a response\n",
    "output = model.generate(\n",
    "    **tokenizer(input_text, return_tensors=\"pt\").to(model.device),\n",
    "    max_length=100,\n",
    "    temperature=0.7,\n",
    "    do_sample=True\n",
    ")\n",
    "\n",
    "# Decode and print response\n",
    "response = tokenizer.decode(output[0], skip_special_tokens=True)\n",
    "print(response)\n"
   ]
  }
 ],
 "metadata": {
  "kernelspec": {
   "display_name": "ecg_llm",
   "language": "python",
   "name": "ecg_llm"
  }
 },
 "nbformat": 4,
 "nbformat_minor": 5
}

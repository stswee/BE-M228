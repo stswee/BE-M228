{
 "cells": [
  {
   "cell_type": "code",
   "execution_count": 4,
   "id": "8f7aecd3-b366-42aa-a2c7-0eaa0d9f48dc",
   "metadata": {},
   "outputs": [
    {
     "data": {
      "text/plain": [
       "<torch._C.Generator at 0x7fb6aff4a650>"
      ]
     },
     "execution_count": 4,
     "metadata": {},
     "output_type": "execute_result"
    }
   ],
   "source": [
    "# Import packages\n",
    "import json\n",
    "from huggingface_hub import login\n",
    "from transformers import AutoModel, AutoModelForCausalLM, AutoTokenizer, pipeline\n",
    "import transformers\n",
    "import random\n",
    "import torch\n",
    "import time\n",
    "import re\n",
    "from tqdm import tqdm\n",
    "import pandas as pd\n",
    "\n",
    "# Set seeds\n",
    "random.seed(0)\n",
    "torch.manual_seed(0)"
   ]
  },
  {
   "cell_type": "code",
   "execution_count": 2,
   "id": "1519726d-c1e0-49cf-8368-e5d36349dbf1",
   "metadata": {},
   "outputs": [
    {
     "name": "stderr",
     "output_type": "stream",
     "text": [
      "Loading checkpoint shards: 100%|██████████████████████████████████████████████████████████████████████████████████████████████████████████████████████████████████████████████| 4/4 [01:13<00:00, 18.50s/it]\n"
     ]
    }
   ],
   "source": [
    "# Log into Huggingface\n",
    "with open(\"../../huggingface_token.txt\", \"r\") as file:\n",
    "    access_token = file.read().strip()\n",
    "login(access_token)\n",
    "\n",
    "# Load Huggingface Model\n",
    "model_name = \"meta-llama/Llama-3.1-8B-Instruct\"\n",
    "tokenizer = AutoTokenizer.from_pretrained(model_name)\n",
    "model = AutoModelForCausalLM.from_pretrained(model_name, token=access_token, low_cpu_mem_usage=True,\n",
    "                    torch_dtype=torch.float16, device_map='auto')"
   ]
  },
  {
   "cell_type": "code",
   "execution_count": 109,
   "id": "52d84325-93c7-4fd1-a003-cf89f8405b77",
   "metadata": {},
   "outputs": [],
   "source": [
    "def get_message(note):\n",
    "    system = 'You are a medical assistant. Your tasks are to generate a clinical note and create an Assessment and Plan section. Additionally, you will also determine the fate of the patient. The patient either survives for the next few years or succumbs to either sudden cardiac death or pump failure death. Only suggest death if there is strong evidence for it. Provide your confidence in survival, sudden cardiac death, and pump failure death such that the confidence percentages add up to 100 percent and format these results in a list. Please output a clinical note that has a section for demographics, medical history, lab results, LVEF, medication, and ECG impressions. In the end, put the Assessment and Plan section along with a prediction. Provide reasoning for the prediction.'\n",
    "\n",
    "    prompt = f\"Here is the patient data: \\n{note}\"\n",
    "\n",
    "    messages = [\n",
    "\t\t{\"role\": \"system\", \"content\": system},\n",
    "\t\t{\"role\": \"user\", \"content\": prompt}\n",
    "\t]\n",
    "\n",
    "    return messages\n",
    "\n",
    "def extract_assistant_response(response):\n",
    "    parts = response.split(\"assistant\\n\\n\", 1)\n",
    "    return parts[1].strip() if len(parts) > 1 else response"
   ]
  },
  {
   "cell_type": "code",
   "execution_count": 110,
   "id": "609ef6f5-fbfe-415b-98d3-115bfee5b9fd",
   "metadata": {},
   "outputs": [
    {
     "data": {
      "text/plain": [
       "'Generate a structured clinical note based on the following data:\\n\\nAge: 58\\nGender: Male \\nWeight: 74 kg\\nHeight: 160 cm\\nNYHA Class: II\\nBlood Pressure: 130/80 mmHg\\nPast Medical History: Ischemic dilated cardiomyopathy, Dyslipemia, Myocardial Infarction\\nAlbumin (g/L): 404.0\\nALT or GPT (IU/L): 20\\nAST or GOT (IU/L): 20\\nTotal Cholesterol (mmol/L): 618\\nCreatinine (mmol/L): 121\\nGamma-glutamil transpeptidase (IU/L): 44.0\\nGlucose (mmol/L): 56\\nHemoglobin (g/L): 126.0\\nHDL (mmol/L): 0,98\\nPotassium (mEq/L): 46.0\\nLDL (mmol/L): 4,06\\nSodium (mEq/L): 140.0\\nPro-BNP (ng/L): 570.0\\nProtein (g/L): 75.0\\nT3 (pg/dL): 0,04\\nT4 (ng/L): 12.0\\nTroponin (ng/mL): 0,01\\nTSH (mIU/L): 3,27\\nUrea (mg/dL): 1047\\nLVEF (%): 35\\nMedications: Angiotensin II Receptor Blocker, Beta Blockers, Statins\\nECG Impression:\\n        - Ventricular Extrasystole: Monomorphic\\n        - Ventricular Tachycardia: No\\n        - Non-sustained ventricular tachycardia (CH>10): No\\n        - Paroxysmal supraventricular tachyarrhythmia: No\\n        - Bradycardia: No\\n            '"
      ]
     },
     "execution_count": 110,
     "metadata": {},
     "output_type": "execute_result"
    }
   ],
   "source": [
    "# Load in csv file with prompts\n",
    "df = pd.read_csv(\"../Data/subject-info-cleaned-with-prompts.csv\")\n",
    "df['Prompts'][0]"
   ]
  },
  {
   "cell_type": "code",
   "execution_count": 111,
   "id": "2f853ae3-e46b-4b53-bef1-c6d391d3ddd2",
   "metadata": {},
   "outputs": [
    {
     "data": {
      "text/plain": [
       "[{'role': 'system',\n",
       "  'content': 'You are a medical assistant. Your tasks are to generate a clinical note and create an Assessment and Plan section. Additionally, you will also determine the fate of the patient. The patient either survives for the next few years or succumbs to either sudden cardiac death or pump failure death. Only suggest death if there is strong evidence for it. Provide your confidence in survival, sudden cardiac death, and pump failure death such that the confidence percentages add up to 100 percent and format these results in a list. Please output a clinical note that has a section for demographics, medical history, lab results, LVEF, medication, and ECG impressions. In the end, put the Assessment and Plan section along with a prediction. Provide reasoning for the prediction.'},\n",
       " {'role': 'user',\n",
       "  'content': 'Here is the patient data: \\nGenerate a structured clinical note based on the following data:\\n\\nAge: 58\\nGender: Male \\nWeight: 74 kg\\nHeight: 160 cm\\nNYHA Class: II\\nBlood Pressure: 130/80 mmHg\\nPast Medical History: Ischemic dilated cardiomyopathy, Dyslipemia, Myocardial Infarction\\nAlbumin (g/L): 404.0\\nALT or GPT (IU/L): 20\\nAST or GOT (IU/L): 20\\nTotal Cholesterol (mmol/L): 618\\nCreatinine (mmol/L): 121\\nGamma-glutamil transpeptidase (IU/L): 44.0\\nGlucose (mmol/L): 56\\nHemoglobin (g/L): 126.0\\nHDL (mmol/L): 0,98\\nPotassium (mEq/L): 46.0\\nLDL (mmol/L): 4,06\\nSodium (mEq/L): 140.0\\nPro-BNP (ng/L): 570.0\\nProtein (g/L): 75.0\\nT3 (pg/dL): 0,04\\nT4 (ng/L): 12.0\\nTroponin (ng/mL): 0,01\\nTSH (mIU/L): 3,27\\nUrea (mg/dL): 1047\\nLVEF (%): 35\\nMedications: Angiotensin II Receptor Blocker, Beta Blockers, Statins\\nECG Impression:\\n        - Ventricular Extrasystole: Monomorphic\\n        - Ventricular Tachycardia: No\\n        - Non-sustained ventricular tachycardia (CH>10): No\\n        - Paroxysmal supraventricular tachyarrhythmia: No\\n        - Bradycardia: No\\n            '}]"
      ]
     },
     "execution_count": 111,
     "metadata": {},
     "output_type": "execute_result"
    }
   ],
   "source": [
    "message = get_message(df['Prompts'][0])\n",
    "message"
   ]
  },
  {
   "cell_type": "code",
   "execution_count": 112,
   "id": "859859f7-9443-449c-adca-9777693cbe79",
   "metadata": {},
   "outputs": [
    {
     "name": "stderr",
     "output_type": "stream",
     "text": [
      "Setting `pad_token_id` to `eos_token_id`:128001 for open-end generation.\n"
     ]
    }
   ],
   "source": [
    "# Put message into LLM\n",
    "input_text = tokenizer.apply_chat_template(message, tokenize = False, add_generation_prompt = True)\n",
    "inputs = tokenizer(input_text, return_tensors = \"pt\").to(model.device)\n",
    "output = model.generate(**inputs, max_new_tokens = 1000)"
   ]
  },
  {
   "cell_type": "code",
   "execution_count": 113,
   "id": "3e5bb423-a2e3-4a51-9d6c-0c156152bef9",
   "metadata": {},
   "outputs": [
    {
     "data": {
      "text/plain": [
       "\"Clinical Note\\n\\nDemographics\\n\\n* Patient Name: (Not provided)\\n* Age: 58 years\\n* Sex: Male\\n* Weight: 74 kg\\n* Height: 160 cm\\n\\nMedical History\\n\\n* Ischemic dilated cardiomyopathy\\n* Dyslipemia\\n* Myocardial Infarction\\n* NYHA Class II\\n\\nLab Results\\n\\n* Albumin: 404.0 g/L\\n* ALT: 20 IU/L\\n* AST: 20 IU/L\\n* Total Cholesterol: 618 mmol/L\\n* Creatinine: 121 mmol/L\\n* GGT: 44.0 IU/L\\n* Glucose: 56 mmol/L\\n* Hemoglobin: 126.0 g/L\\n* HDL: 0.98 mmol/L\\n* Potassium: 4.6 mEq/L\\n* LDL: 4.06 mmol/L\\n* Sodium: 140.0 mEq/L\\n* Pro-BNP: 570.0 ng/L\\n* Protein: 75.0 g/L\\n* T3: 0.04 pg/dL\\n* T4: 12.0 ng/L\\n* Troponin: 0.01 ng/mL\\n* TSH: 3.27 mIU/L\\n* Urea: 104.7 mg/dL\\n\\nLVEF\\n\\n* Left Ventricular Ejection Fraction (LVEF): 35%\\n\\nMedications\\n\\n* Angiotensin II Receptor Blocker\\n* Beta Blockers\\n* Statins\\n\\nECG Impression\\n\\n* Ventricular Extrasystole: Monomorphic\\n* Ventricular Tachycardia: No\\n* Non-sustained ventricular tachycardia (CH>10): No\\n* Paroxysmal supraventricular tachyarrhythmia: No\\n* Bradycardia: No\\n\\nAssessment and Plan\\n\\nBased on the patient's history of ischemic dilated cardiomyopathy, reduced LVEF (35%), and elevated Pro-BNP levels (570.0 ng/L), the patient is at high risk for cardiac complications. The presence of monomorphic ventricular extrasystoles on the ECG suggests underlying ventricular arrhythmogenic substrate.\\n\\nThe patient's current medications, including Angiotensin II Receptor Blocker, Beta Blockers, and Statins, are appropriate for managing heart failure and dyslipemia.\\n\\nHowever, given the patient's reduced LVEF and elevated Pro-BNP levels, there is a high risk of sudden cardiac death (40%) due to ventricular arrhythmias. There is also a moderate risk of pump failure death (30%) due to the patient's underlying cardiomyopathy and reduced LVEF.\\n\\nPrediction\\n\\nConfidence in survival: 30%\\nConfidence in sudden cardiac death: 40%\\nConfidence in pump failure death: 30%\\n\\nReasoning:\\nThe patient's reduced LVEF and elevated Pro-BNP levels indicate a high risk of cardiac complications. The presence of monomorphic ventricular extrasystoles on the ECG suggests an underlying ventricular arrhythmogenic substrate, increasing the risk of sudden cardiac death. However, the patient's current medications are appropriate for managing heart failure and dyslipemia, which may mitigate some of the risks. The patient's NYHA Class II classification suggests that they have some limitation of physical activity, but are still able to perform daily activities without discomfort. Based on these factors, the predicted outcome is a moderate risk of sudden cardiac death and pump failure death, with a lower confidence in survival.\""
      ]
     },
     "execution_count": 113,
     "metadata": {},
     "output_type": "execute_result"
    }
   ],
   "source": [
    "# Get result\n",
    "result"
   ]
  },
  {
   "cell_type": "code",
   "execution_count": 114,
   "id": "2758b1f6-d0b4-428e-b7e6-e2f8fc4332c7",
   "metadata": {},
   "outputs": [
    {
     "name": "stdout",
     "output_type": "stream",
     "text": [
      "Clinical Note\n",
      "\n",
      "Demographics\n",
      "\n",
      "* Patient Name: (Not provided)\n",
      "* Age: 58 years\n",
      "* Sex: Male\n",
      "* Weight: 74 kg\n",
      "* Height: 160 cm\n",
      "\n",
      "Medical History\n",
      "\n",
      "* Ischemic dilated cardiomyopathy\n",
      "* Dyslipemia\n",
      "* Myocardial Infarction\n",
      "* NYHA Class II\n",
      "\n",
      "Lab Results\n",
      "\n",
      "* Albumin: 404.0 g/L\n",
      "* ALT: 20 IU/L\n",
      "* AST: 20 IU/L\n",
      "* Total Cholesterol: 618 mmol/L\n",
      "* Creatinine: 121 mmol/L\n",
      "* GGT: 44.0 IU/L\n",
      "* Glucose: 56 mmol/L\n",
      "* Hemoglobin: 126.0 g/L\n",
      "* HDL: 0.98 mmol/L\n",
      "* Potassium: 4.6 mEq/L\n",
      "* LDL: 4.06 mmol/L\n",
      "* Sodium: 140.0 mEq/L\n",
      "* Pro-BNP: 570.0 ng/L\n",
      "* Protein: 75.0 g/L\n",
      "* T3: 0.04 pg/dL\n",
      "* T4: 12.0 ng/L\n",
      "* Troponin: 0.01 ng/mL\n",
      "* TSH: 3.27 mIU/L\n",
      "* Urea: 104.7 mg/dL\n",
      "\n",
      "LVEF\n",
      "\n",
      "* Left Ventricular Ejection Fraction (LVEF): 35%\n",
      "\n",
      "Medications\n",
      "\n",
      "* Angiotensin II Receptor Blocker\n",
      "* Beta Blockers\n",
      "* Statins\n",
      "\n",
      "ECG Impression\n",
      "\n",
      "* Ventricular Extrasystole: Monomorphic\n",
      "* Ventricular Tachycardia: No\n",
      "* Non-sustained ventricular tachycardia (CH>10): No\n",
      "* Paroxysmal supraventricular tachyarrhythmia: No\n",
      "* Bradycardia: No\n",
      "\n",
      "Assessment and Plan\n",
      "\n",
      "Based on the patient's history of ischemic dilated cardiomyopathy, reduced LVEF (35%), and elevated Pro-BNP levels (570.0 ng/L), the patient is at high risk for cardiac complications. The presence of monomorphic ventricular extrasystoles on the ECG suggests underlying ventricular arrhythmogenic substrate.\n",
      "\n",
      "The patient's current medications, including Angiotensin II Receptor Blocker, Beta Blockers, and Statins, are appropriate for managing heart failure and dyslipemia.\n",
      "\n",
      "However, given the patient's reduced LVEF and elevated Pro-BNP levels, there is a high risk of sudden cardiac death (40%) due to ventricular arrhythmias. There is also a moderate risk of pump failure death (30%) due to the patient's underlying cardiomyopathy and reduced LVEF.\n",
      "\n",
      "Prediction\n",
      "\n",
      "Confidence in survival: 30%\n",
      "Confidence in sudden cardiac death: 40%\n",
      "Confidence in pump failure death: 30%\n",
      "\n",
      "Reasoning:\n",
      "The patient's reduced LVEF and elevated Pro-BNP levels indicate a high risk of cardiac complications. The presence of monomorphic ventricular extrasystoles on the ECG suggests an underlying ventricular arrhythmogenic substrate, increasing the risk of sudden cardiac death. However, the patient's current medications are appropriate for managing heart failure and dyslipemia, which may mitigate some of the risks. The patient's NYHA Class II classification suggests that they have some limitation of physical activity, but are still able to perform daily activities without discomfort. Based on these factors, the predicted outcome is a moderate risk of sudden cardiac death and pump failure death, with a lower confidence in survival.\n"
     ]
    }
   ],
   "source": [
    "test_result = result.replace(\"**\", \"\")\n",
    "print(extract_assistant_response(test_result))"
   ]
  },
  {
   "cell_type": "code",
   "execution_count": 115,
   "id": "e488b15a-9f6b-4efe-9467-cd6d7f7c648e",
   "metadata": {},
   "outputs": [
    {
     "name": "stderr",
     "output_type": "stream",
     "text": [
      "/tmp/ipykernel_4073913/455679211.py:3: SettingWithCopyWarning: \n",
      "A value is trying to be set on a copy of a slice from a DataFrame.\n",
      "Try using .loc[row_indexer,col_indexer] = value instead\n",
      "\n",
      "See the caveats in the documentation: https://pandas.pydata.org/pandas-docs/stable/user_guide/indexing.html#returning-a-view-versus-a-copy\n",
      "  df_test['Reports'] = None\n"
     ]
    }
   ],
   "source": [
    "# Test\n",
    "df_test = df[[df.columns[1]]]\n",
    "df_test['Reports'] = None\n"
   ]
  },
  {
   "cell_type": "code",
   "execution_count": 127,
   "id": "a0b4c99b-0f2a-4670-b7d7-58a0566b6131",
   "metadata": {},
   "outputs": [
    {
     "name": "stderr",
     "output_type": "stream",
     "text": [
      "Setting `pad_token_id` to `eos_token_id`:128001 for open-end generation.                                                                                                              | 0/5 [00:00<?, ?it/s]\n",
      "Setting `pad_token_id` to `eos_token_id`:128001 for open-end generation.                                                                                                      | 1/5 [00:54<03:36, 54.10s/it]\n",
      "Setting `pad_token_id` to `eos_token_id`:128001 for open-end generation.████▏                                                                                                 | 2/5 [01:38<02:26, 48.69s/it]\n",
      "Setting `pad_token_id` to `eos_token_id`:128001 for open-end generation.████████████████████████████████████▊                                                                 | 3/5 [02:22<01:32, 46.45s/it]\n",
      "Setting `pad_token_id` to `eos_token_id`:128001 for open-end generation.█████████████████████████████████████████████████████████████████████▍                                | 4/5 [03:18<00:50, 50.23s/it]\n",
      "Test: 100%|███████████████████████████████████████████████████████████████████████████████████████████████████████████████████████████████████████████████████████████████████| 5/5 [04:06<00:00, 49.30s/it]\n"
     ]
    }
   ],
   "source": [
    "for i in tqdm(range(5), desc = \"Test\"):\n",
    "    # Get message\n",
    "    message = get_message(df['Prompts'][i])\n",
    "\n",
    "    # Put message into LLM\n",
    "    input_text = tokenizer.apply_chat_template(message, tokenize = False, add_generation_prompt = True)\n",
    "    inputs = tokenizer(input_text, return_tensors = \"pt\").to(model.device)\n",
    "    output = model.generate(**inputs, max_new_tokens = 1000)\n",
    "\n",
    "    # Get result\n",
    "    result = tokenizer.decode(output[0], skip_special_tokens = True)\n",
    "    result = result.replace(\"**\", \"\")\n",
    "    result = extract_assistant_response(result)\n",
    "\n",
    "    # Store result\n",
    "    df_test.loc[i, 'Reports'] = result\n",
    "    "
   ]
  },
  {
   "cell_type": "code",
   "execution_count": 126,
   "id": "969e0f1e-6f5a-4c6a-90ed-4b4a3d50ad90",
   "metadata": {},
   "outputs": [
    {
     "name": "stdout",
     "output_type": "stream",
     "text": [
      "Clinical Note\n",
      "\n",
      "Demographics:\n",
      "\n",
      "* Age: 58 years\n",
      "* Gender: Male\n",
      "* Weight: 74 kg\n",
      "* Height: 160 cm\n",
      "\n",
      "Medical History:\n",
      "\n",
      "* Ischemic dilated cardiomyopathy\n",
      "* Dyslipemia\n",
      "* Myocardial Infarction\n",
      "\n",
      "Lab Results:\n",
      "\n",
      "* Albumin: 404.0 g/L\n",
      "* ALT or GPT: 20 IU/L\n",
      "* AST or GOT: 20 IU/L\n",
      "* Total Cholesterol: 618 mmol/L\n",
      "* Creatinine: 1.21 mmol/L\n",
      "* Gamma-glutamil transpeptidase: 44.0 IU/L\n",
      "* Glucose: 5.6 mmol/L\n",
      "* Hemoglobin: 126.0 g/L\n",
      "* HDL: 0.98 mmol/L\n",
      "* Potassium: 4.6 mEq/L\n",
      "* LDL: 4.06 mmol/L\n",
      "* Sodium: 140.0 mEq/L\n",
      "* Pro-BNP: 570.0 ng/L\n",
      "* Protein: 75.0 g/L\n",
      "* T3: 0.04 pg/dL\n",
      "* T4: 12.0 ng/L\n",
      "* Troponin: 0.01 ng/mL\n",
      "* TSH: 3.27 mIU/L\n",
      "* Urea: 104.7 mg/dL\n",
      "\n",
      "LVEF (Left Ventricular Ejection Fraction):\n",
      "\n",
      "* 35%\n",
      "\n",
      "Medications:\n",
      "\n",
      "* Angiotensin II Receptor Blocker\n",
      "* Beta Blockers\n",
      "* Statins\n",
      "\n",
      "ECG Impressions:\n",
      "\n",
      "* Ventricular Extrasystole: Monomorphic\n",
      "* Ventricular Tachycardia: No\n",
      "* Non-sustained ventricular tachycardia (CH>10): No\n",
      "* Paroxysmal supraventricular tachyarrhythmia: No\n",
      "* Bradycardia: No\n",
      "\n",
      "Assessment and Plan:\n",
      "\n",
      "Based on the patient's medical history, lab results, and ECG impressions, the patient has a history of ischemic dilated cardiomyopathy with an LVEF of 35%, indicating severe left ventricular dysfunction. The patient's lab results show elevated levels of troponin, creatinine, and pro-BNP, which are indicative of cardiac stress and renal impairment. The patient is on appropriate medications for heart failure and dyslipemia.\n",
      "\n",
      "Prediction:\n",
      "\n",
      "Based on the patient's condition, the following outcomes are predicted with the following confidence levels:\n",
      "\n",
      "* Survival for the next few years: 20%\n",
      "* Sudden Cardiac Death: 40%\n",
      "* Pump Failure Death: 40%\n",
      "\n",
      "Reasoning:\n",
      "\n",
      "The patient's LVEF of 35% indicates severe left ventricular dysfunction, which increases the risk of sudden cardiac death. The elevated troponin and pro-BNP levels suggest ongoing cardiac stress, which also contributes to the risk of sudden cardiac death. The patient's renal impairment, as indicated by elevated creatinine levels, may also contribute to the risk of pump failure death. However, the patient's medication regimen is appropriate for heart failure and dyslipemia, which may help mitigate some of these risks. Overall, the patient's condition is serious, and close monitoring is required to prevent sudden cardiac death or pump failure.\n"
     ]
    }
   ],
   "source": [
    "print(df_test['Reports'][4])"
   ]
  }
 ],
 "metadata": {
  "kernelspec": {
   "display_name": "Python 3 (ipykernel)",
   "language": "python",
   "name": "python3"
  },
  "language_info": {
   "codemirror_mode": {
    "name": "ipython",
    "version": 3
   },
   "file_extension": ".py",
   "mimetype": "text/x-python",
   "name": "python",
   "nbconvert_exporter": "python",
   "pygments_lexer": "ipython3",
   "version": "3.10.12"
  }
 },
 "nbformat": 4,
 "nbformat_minor": 5
}
